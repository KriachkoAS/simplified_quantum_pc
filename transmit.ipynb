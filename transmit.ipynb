{
  "nbformat": 4,
  "nbformat_minor": 0,
  "metadata": {
    "colab": {
      "provenance": [],
      "authorship_tag": "ABX9TyNf3afWD1GJLJRz5LaVXjAX",
      "include_colab_link": true
    },
    "kernelspec": {
      "name": "python3",
      "display_name": "Python 3"
    },
    "language_info": {
      "name": "python"
    }
  },
  "cells": [
    {
      "cell_type": "markdown",
      "metadata": {
        "id": "view-in-github",
        "colab_type": "text"
      },
      "source": [
        "<a href=\"https://colab.research.google.com/github/KriachkoAS/simplified_quantum_pc/blob/main/transmit.ipynb\" target=\"_parent\"><img src=\"https://colab.research.google.com/assets/colab-badge.svg\" alt=\"Open In Colab\"/></a>"
      ]
    },
    {
      "cell_type": "code",
      "execution_count": null,
      "metadata": {
        "id": "9q006OrIZkQj"
      },
      "outputs": [],
      "source": [
        "import numpy as np"
      ]
    },
    {
      "cell_type": "code",
      "source": [
        "class QPC:\n",
        "  def __init__(self, n):\n",
        "    self.n = n\n",
        "    self.states = np.zeros([2] * n)\n",
        "    self.states[tuple([0] * n)] = 1\n",
        "\n",
        "qpc = QPC(3)\n",
        "qpc.states"
      ],
      "metadata": {
        "colab": {
          "base_uri": "https://localhost:8080/"
        },
        "id": "q_CDhUxID88h",
        "outputId": "ec056383-fa80-4a68-f962-0c787f6089e3"
      },
      "execution_count": null,
      "outputs": [
        {
          "output_type": "execute_result",
          "data": {
            "text/plain": [
              "array([[[1., 0.],\n",
              "        [0., 0.]],\n",
              "\n",
              "       [[0., 0.],\n",
              "        [0., 0.]]])"
            ]
          },
          "metadata": {},
          "execution_count": 2
        }
      ]
    },
    {
      "cell_type": "code",
      "source": [
        "def func(self, indices, matrix):\n",
        "  permutation = tuple(\n",
        "      np.setdiff1d(np.arange(self.n), indices)\n",
        "      ) + tuple(indices)\n",
        "  res = self.states.transpose(permutation)\\\n",
        "    .reshape([2] * (self.n - len(indices)) + [-1, 1])\n",
        "  res = matrix @ res\n",
        "  res = res.reshape([2] * self.n)\\\n",
        "    .transpose(np.argsort(permutation))\n",
        "  self.states = res\n",
        "  return res\n",
        "\n",
        "QPC._group_and_apply = func\n",
        "\n",
        "def func(self, *indices):\n",
        "  for index in indices:\n",
        "    qs = self._group_and_apply([index], (1/2)**(1/2)*np.array([[1, 1], [1, -1]]))\n",
        "  return self.states\n",
        "\n",
        "QPC.h = func\n",
        "\n",
        "qpc = QPC(3)\n",
        "qpc.h(0, 1, 2, 0, 1)"
      ],
      "metadata": {
        "colab": {
          "base_uri": "https://localhost:8080/"
        },
        "id": "7gQI9GTJEq8p",
        "outputId": "c3d4b982-4b44-41b3-f230-6d77447c56f1"
      },
      "execution_count": null,
      "outputs": [
        {
          "output_type": "execute_result",
          "data": {
            "text/plain": [
              "array([[[7.07106781e-01, 7.07106781e-01],\n",
              "        [2.29934717e-17, 2.29934717e-17]],\n",
              "\n",
              "       [[2.53429949e-17, 2.53429949e-17],\n",
              "        [6.15876663e-34, 6.15876663e-34]]])"
            ]
          },
          "metadata": {},
          "execution_count": 3
        }
      ]
    },
    {
      "cell_type": "code",
      "source": [
        "def func(self, *indices):\n",
        "  matrix = np.diag(np.ones(2 ** len(indices), dtype = int))\n",
        "  matrix[-2:, -2:] = [[0, 1], [1, 0]]\n",
        "  self._group_and_apply(indices, matrix)\n",
        "  return self.states\n",
        "\n",
        "QPC.x = func\n",
        "\n",
        "qpc = QPC(3)\n",
        "qpc.x(0)\n",
        "qpc.x(0, 1)\n",
        "qpc.x(0, 1, 2)"
      ],
      "metadata": {
        "colab": {
          "base_uri": "https://localhost:8080/"
        },
        "id": "0tk4YLvSJWq_",
        "outputId": "55c82778-7507-4915-8b07-1cfa24592020"
      },
      "execution_count": null,
      "outputs": [
        {
          "output_type": "execute_result",
          "data": {
            "text/plain": [
              "array([[[0., 0.],\n",
              "        [0., 0.]],\n",
              "\n",
              "       [[0., 0.],\n",
              "        [0., 1.]]])"
            ]
          },
          "metadata": {},
          "execution_count": 4
        }
      ]
    },
    {
      "cell_type": "code",
      "source": [
        "def func(self, *indices):\n",
        "  matrix = np.diag(np.ones(2 ** len(indices), dtype = int))\n",
        "  matrix[-1, -1] = -1\n",
        "  self._group_and_apply(indices, matrix)\n",
        "  return self.states\n",
        "\n",
        "QPC.z = func\n",
        "\n",
        "qpc = QPC(2)\n",
        "#3rd party\n",
        "qpc.h(1)\n",
        "qpc.x(1, 0)\n",
        "#sender (manipulates only [1] qubit)\n",
        "message = [True, True]\n",
        "if message[0]:\n",
        "  qpc.z(1)\n",
        "if message[1]:\n",
        "  qpc.x(1)\n",
        "#reseiver\n",
        "qpc.x(1, 0)\n",
        "qpc.h(1)\n",
        "qpc.states.flatten()"
      ],
      "metadata": {
        "colab": {
          "base_uri": "https://localhost:8080/"
        },
        "id": "i8l8_8LzuqUD",
        "outputId": "bfe3e1d8-b0fb-44fd-b698-a1258f27175c"
      },
      "execution_count": null,
      "outputs": [
        {
          "output_type": "execute_result",
          "data": {
            "text/plain": [
              "array([ 0.00000000e+00,  0.00000000e+00,  4.26642159e-17, -1.00000000e+00])"
            ]
          },
          "metadata": {},
          "execution_count": 12
        }
      ]
    }
  ]
}